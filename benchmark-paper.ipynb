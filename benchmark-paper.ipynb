{
 "cells": [
  {
   "attachments": {},
   "cell_type": "markdown",
   "id": "e7e1ad59",
   "metadata": {},
   "source": [
    "<p style=\"text-align: center; font-size: 35px;\"><b>Social Media Management</b></p>\n",
    "<p style=\"margin-top: -20px; text-align: center; font-size: 27px;\"><b>Final Project</b></p>\n",
    "<p style=\"margin-top: -10px; text-align: center; font-size: 18px;\"><b>Basic Classifiers Benchmark for Climate Change Tweets</b></p>\n",
    "<p style=\"text-align: center; font-size: 16px;\"><a href=\"https://linktr.ee/antonioscardace\">Antonio Scardace</a> • 1000007272 • April 2022</p>"
   ]
  },
  {
   "attachments": {},
   "cell_type": "markdown",
   "id": "5e940203",
   "metadata": {},
   "source": [
    "## Introduction to Project Idea and Dataset\n",
    "This task consists, given a series of tweets about Climate Change, in figuring out whether the user (the author) is skeptic or supports the belief of man-made climate change. Once implemented, trained, and tested, this algorithm will be useful in some real contests.\n",
    "\n",
    "To solve this problem, I have made a model (a classifier) which has been trained on a **43943 tweets** dataset collected between 2015-04-27 and 2018-02-21 by ***Canada Foundation for Innovation JELF Grant to Chris Bauch, University of Waterloo***. <br/>\n",
    "Each row of the dataset contains: the text of the tweet labelled as '*message*', the tweet id labelled as '*tweetid*', and the sentiment of the tweet labelled as '*sentiment*'.\n",
    "\n",
    "Each sentiment is labelled as one of the following classes:\n",
    "- ``-1`` (**Anti**) &#8594; the tweet author doesn't believe in man-made climate change;\n",
    "- ``0`` (**Neutral**) &#8594; the tweet author neither supports nor refutes the belief of man-made climate change;\n",
    "- ``1`` (**Pro**) &#8594; the tweet author supports the belief of man-made climate change;\n",
    "- ``2`` (**News**) &#8594; the tweet links to factual news about climate change;\n",
    "\n",
    "Let's see how classes are distributed in the dataset. It is unbalanced.<br/>\n",
    "<img src=\"imgs/dataset_distribution.png\" alt=\"dataset distribution\" style=\"width: 550px; margin-top: 10px; border: 1px solid #555\"/>"
   ]
  },
  {
   "attachments": {},
   "cell_type": "markdown",
   "id": "1e1998b0",
   "metadata": {},
   "source": [
    "## Base Code\n",
    "\n",
    "I had to import all the modules I needed:\n",
    "- ``numpy`` adds support for big arrays and matrices, along with a large collection of math functions.\n",
    "- ``pandas`` helps with data manipulation and analysis through charts and tables.\n",
    "- ``matplotlib`` is a comprehensive library for creating static, animated, and interactive visualizations. I used it to get a colormap.\n",
    "- ``re`` provides Regular Expression matching operations.\n",
    "- ``vaderSentiment`` is a lexicon and rule-based sentiment-analysis tool which is sensitive to web-based media texts.\n",
    "- ``sklearn`` is a library for Machine Learning on Python.\n",
    "\n",
    "Through ``sklearn`` I have imported some methods and classes. Let's see some of them:\n",
    "- **SVC** &#8594; implements SVC (Support Vector Classifier) which is an implementation of SVM (Support Vector Machine).\n",
    "- **GridSearchCV** &#8594; it provides methods to optimize parameters into the algorithm (such as K in KNN algorithm).\n",
    "- **ShuffleSplit** &#8594; for large datasets it is used to improve the work of GridSearchCV bypassing the Cross-Validation.\n",
    "- **CountVectorizer** &#8594; converts a collection of text documents to a matrix of token counts.\n",
    "- **TfidfTransformer** &#8594; transforms a count matrix to a normalized tf or tf-idf representation.\n",
    "- **Pipeline** &#8594; sequentially applies a list of operations and a final estimator (classifier, in our case). Implements methods to train and test our algorithm."
   ]
  },
  {
   "cell_type": "code",
   "execution_count": 27,
   "id": "fb9c1fd2",
   "metadata": {},
   "outputs": [],
   "source": [
    "import numpy as np\n",
    "import pandas as pd\n",
    "import matplotlib.pyplot as plt \n",
    "\n",
    "import re\n",
    "import vaderSentiment.vaderSentiment\n",
    "\n",
    "from sklearn.model_selection import train_test_split\n",
    "\n",
    "from sklearn.neighbors import KNeighborsClassifier\n",
    "from sklearn.naive_bayes import MultinomialNB\n",
    "from sklearn.linear_model import LogisticRegression\n",
    "from sklearn.linear_model import SGDClassifier\n",
    "from sklearn.svm import SVC\n",
    "\n",
    "from sklearn.model_selection import GridSearchCV\n",
    "from sklearn.model_selection import ShuffleSplit\n",
    "\n",
    "from sklearn.feature_extraction.text import CountVectorizer\n",
    "from sklearn.feature_extraction.text import TfidfTransformer\n",
    "from sklearn.pipeline import Pipeline\n",
    "\n",
    "from sklearn.metrics import f1_score\n",
    "from sklearn.metrics import accuracy_score\n",
    "\n",
    "from sklearn.metrics import ConfusionMatrixDisplay"
   ]
  },
  {
   "attachments": {},
   "cell_type": "markdown",
   "id": "ff86ebbe",
   "metadata": {},
   "source": [
    "I have implemented this **preprocessing** function ``pre_proc`` using **Regular Expressions** (RegEx). <br/>\n",
    "It is a method useful to remove links inside the tweets text, because they confuse the classifier in multiple ways. <br/>\n",
    "For instance: in the dataset there may be a tweet (of sentiment **J**) containing just an image (represented by a link). Since there is no text to analyze, the classifier will associate a priori each time a tweet consisting of only a link appears, the output class **J**."
   ]
  },
  {
   "cell_type": "code",
   "execution_count": 5,
   "id": "c1e81197",
   "metadata": {},
   "outputs": [],
   "source": [
    "def pre_proc(doc):\n",
    "    return re.sub(r\"(?:\\@|https?\\://)\\S+\", \"\", doc).replace('RT ', '')"
   ]
  },
  {
   "attachments": {},
   "cell_type": "markdown",
   "id": "7e86b8cd",
   "metadata": {},
   "source": [
    "## Dataset Loading\n",
    "\n",
    "As first thing, I have needed to load the dataset from a CSV file."
   ]
  },
  {
   "cell_type": "code",
   "execution_count": 6,
   "id": "e9be149f",
   "metadata": {},
   "outputs": [
    {
     "data": {
      "text/html": [
       "<div>\n",
       "<style scoped>\n",
       "    .dataframe tbody tr th:only-of-type {\n",
       "        vertical-align: middle;\n",
       "    }\n",
       "\n",
       "    .dataframe tbody tr th {\n",
       "        vertical-align: top;\n",
       "    }\n",
       "\n",
       "    .dataframe thead th {\n",
       "        text-align: right;\n",
       "    }\n",
       "</style>\n",
       "<table border=\"1\" class=\"dataframe\">\n",
       "  <thead>\n",
       "    <tr style=\"text-align: right;\">\n",
       "      <th></th>\n",
       "      <th>sentiment</th>\n",
       "      <th>message</th>\n",
       "    </tr>\n",
       "  </thead>\n",
       "  <tbody>\n",
       "    <tr>\n",
       "      <th>0</th>\n",
       "      <td>-1</td>\n",
       "      <td>@tiniebeany climate change is an interesting h...</td>\n",
       "    </tr>\n",
       "    <tr>\n",
       "      <th>1</th>\n",
       "      <td>1</td>\n",
       "      <td>RT @NatGeoChannel: Watch #BeforeTheFlood right...</td>\n",
       "    </tr>\n",
       "    <tr>\n",
       "      <th>2</th>\n",
       "      <td>1</td>\n",
       "      <td>Fabulous! Leonardo #DiCaprio's film on #climat...</td>\n",
       "    </tr>\n",
       "    <tr>\n",
       "      <th>3</th>\n",
       "      <td>1</td>\n",
       "      <td>RT @Mick_Fanning: Just watched this amazing do...</td>\n",
       "    </tr>\n",
       "    <tr>\n",
       "      <th>4</th>\n",
       "      <td>2</td>\n",
       "      <td>RT @cnalive: Pranita Biswasi, a Lutheran from ...</td>\n",
       "    </tr>\n",
       "  </tbody>\n",
       "</table>\n",
       "</div>"
      ],
      "text/plain": [
       "   sentiment                                            message\n",
       "0         -1  @tiniebeany climate change is an interesting h...\n",
       "1          1  RT @NatGeoChannel: Watch #BeforeTheFlood right...\n",
       "2          1  Fabulous! Leonardo #DiCaprio's film on #climat...\n",
       "3          1  RT @Mick_Fanning: Just watched this amazing do...\n",
       "4          2  RT @cnalive: Pranita Biswasi, a Lutheran from ..."
      ]
     },
     "execution_count": 6,
     "metadata": {},
     "output_type": "execute_result"
    }
   ],
   "source": [
    "tweets = pd.read_csv('dataset.csv')\n",
    "tweets.pop('tweetid')\n",
    "tweets.head()"
   ]
  },
  {
   "attachments": {},
   "cell_type": "markdown",
   "id": "1abf898b",
   "metadata": {},
   "source": [
    "## Experimental Dataset\n",
    "\n",
    "**As a test** I have extracted and added as features also the sentiment of each tweet thanks to **VADER**. <br/>\n",
    "Each sentiment returned from VADER is composed by **four scores**: negative, neutral, positive, and compound (is a normalized metric)."
   ]
  },
  {
   "cell_type": "code",
   "execution_count": 7,
   "id": "063525c2",
   "metadata": {},
   "outputs": [
    {
     "data": {
      "text/html": [
       "<div>\n",
       "<style scoped>\n",
       "    .dataframe tbody tr th:only-of-type {\n",
       "        vertical-align: middle;\n",
       "    }\n",
       "\n",
       "    .dataframe tbody tr th {\n",
       "        vertical-align: top;\n",
       "    }\n",
       "\n",
       "    .dataframe thead th {\n",
       "        text-align: right;\n",
       "    }\n",
       "</style>\n",
       "<table border=\"1\" class=\"dataframe\">\n",
       "  <thead>\n",
       "    <tr style=\"text-align: right;\">\n",
       "      <th></th>\n",
       "      <th>sentiment</th>\n",
       "      <th>message</th>\n",
       "      <th>neg</th>\n",
       "      <th>neu</th>\n",
       "      <th>pos</th>\n",
       "      <th>com</th>\n",
       "    </tr>\n",
       "  </thead>\n",
       "  <tbody>\n",
       "    <tr>\n",
       "      <th>0</th>\n",
       "      <td>-1</td>\n",
       "      <td>@tiniebeany climate change is an interesting h...</td>\n",
       "      <td>8.1</td>\n",
       "      <td>62.2</td>\n",
       "      <td>29.7</td>\n",
       "      <td>64.28</td>\n",
       "    </tr>\n",
       "    <tr>\n",
       "      <th>1</th>\n",
       "      <td>1</td>\n",
       "      <td>RT @NatGeoChannel: Watch #BeforeTheFlood right...</td>\n",
       "      <td>0.0</td>\n",
       "      <td>100.0</td>\n",
       "      <td>0.0</td>\n",
       "      <td>0.00</td>\n",
       "    </tr>\n",
       "    <tr>\n",
       "      <th>2</th>\n",
       "      <td>1</td>\n",
       "      <td>Fabulous! Leonardo #DiCaprio's film on #climat...</td>\n",
       "      <td>0.0</td>\n",
       "      <td>54.4</td>\n",
       "      <td>45.6</td>\n",
       "      <td>85.44</td>\n",
       "    </tr>\n",
       "    <tr>\n",
       "      <th>3</th>\n",
       "      <td>1</td>\n",
       "      <td>RT @Mick_Fanning: Just watched this amazing do...</td>\n",
       "      <td>0.0</td>\n",
       "      <td>74.3</td>\n",
       "      <td>25.7</td>\n",
       "      <td>67.05</td>\n",
       "    </tr>\n",
       "    <tr>\n",
       "      <th>4</th>\n",
       "      <td>2</td>\n",
       "      <td>RT @cnalive: Pranita Biswasi, a Lutheran from ...</td>\n",
       "      <td>15.6</td>\n",
       "      <td>73.6</td>\n",
       "      <td>10.8</td>\n",
       "      <td>-27.32</td>\n",
       "    </tr>\n",
       "  </tbody>\n",
       "</table>\n",
       "</div>"
      ],
      "text/plain": [
       "   sentiment                                            message   neg    neu  \\\n",
       "0         -1  @tiniebeany climate change is an interesting h...   8.1   62.2   \n",
       "1          1  RT @NatGeoChannel: Watch #BeforeTheFlood right...   0.0  100.0   \n",
       "2          1  Fabulous! Leonardo #DiCaprio's film on #climat...   0.0   54.4   \n",
       "3          1  RT @Mick_Fanning: Just watched this amazing do...   0.0   74.3   \n",
       "4          2  RT @cnalive: Pranita Biswasi, a Lutheran from ...  15.6   73.6   \n",
       "\n",
       "    pos    com  \n",
       "0  29.7  64.28  \n",
       "1   0.0   0.00  \n",
       "2  45.6  85.44  \n",
       "3  25.7  67.05  \n",
       "4  10.8 -27.32  "
      ]
     },
     "execution_count": 7,
     "metadata": {},
     "output_type": "execute_result"
    }
   ],
   "source": [
    "vader = vaderSentiment.vaderSentiment.SentimentIntensityAnalyzer()\n",
    "\n",
    "tweets['neg'], tweets['neu'], tweets['pos'], tweets['com'] = 0, 0, 0, 0\n",
    "idx = 0\n",
    "\n",
    "for tweet in tweets.iterrows():\n",
    "    sentiment = vader.polarity_scores(pre_proc(tweet[1]['message']))\n",
    "\n",
    "    tweets.loc[idx, 'neg'] = sentiment['neg'] * 100\n",
    "    tweets.loc[idx, 'neu'] = sentiment['neu'] * 100\n",
    "    tweets.loc[idx, 'pos'] = sentiment['pos'] * 100\n",
    "    tweets.loc[idx, 'com'] = sentiment['compound'] * 100\n",
    "\n",
    "    idx += 1\n",
    "\n",
    "tweets.head()"
   ]
  },
  {
   "attachments": {},
   "cell_type": "markdown",
   "id": "0a1f112f",
   "metadata": {},
   "source": [
    "I have tested this dataset with each pipeline and each algorithm. Here is an example with the pipeline of KNN algorithm. <br/>\n",
    "Unfortunately, as you can see below, this new version of the dataset did not bring better results to the model. On the contrary, it made them worse than the KNN algorithm that you can find [below in the project](#comparison-of-classification-algorithms). <br/>\n",
    "So, in addition to this, I have obtained just a more complex model: bigger space and time complexity. For these reasons, I didn't use it."
   ]
  },
  {
   "cell_type": "code",
   "execution_count": 8,
   "id": "84ce8b0e",
   "metadata": {},
   "outputs": [],
   "source": [
    "from sklearn.base import BaseEstimator, TransformerMixin # they allow us to extend fit and transform methods by our features\n",
    "from sklearn.pipeline import FeatureUnion # allows us to work with multiple features\n",
    "from sklearn.preprocessing import MaxAbsScaler # normalizes features in a range [0, 1]"
   ]
  },
  {
   "cell_type": "code",
   "execution_count": 9,
   "id": "6f195fd8",
   "metadata": {},
   "outputs": [],
   "source": [
    "class NumberSelector(BaseEstimator, TransformerMixin):\n",
    "\n",
    "    def __init__(self, key):\n",
    "        self.key = key\n",
    "\n",
    "    def fit(self, X, y=None):\n",
    "        return self\n",
    "\n",
    "    def transform(self, X):\n",
    "        return X[[self.key]]\n",
    "\n",
    "class TextSelector(BaseEstimator, TransformerMixin):\n",
    "\n",
    "    def __init__(self, key):\n",
    "        self.key = key\n",
    "\n",
    "    def fit(self, X, y=None):\n",
    "        return self\n",
    "\n",
    "    def transform(self, X):\n",
    "        return X[self.key]"
   ]
  },
  {
   "cell_type": "code",
   "execution_count": 10,
   "id": "6e4d00c8",
   "metadata": {},
   "outputs": [],
   "source": [
    "knn_exp = Pipeline([\n",
    "    ('features', FeatureUnion([\n",
    "        ('text', Pipeline([\n",
    "            ('selector', TextSelector(key='message')),\n",
    "            ('vect', CountVectorizer(stop_words=None, strip_accents=None, lowercase=True, max_df=0.75, preprocessor=pre_proc)),\n",
    "            ('tfidf', TfidfTransformer(use_idf=False)),\n",
    "            ('standard', MaxAbsScaler())\n",
    "        ])),\n",
    "        ('pos', Pipeline([\n",
    "            ('selector', NumberSelector(key='pos')),\n",
    "            ('standard', MaxAbsScaler())\n",
    "        ])),\n",
    "        ('neg', Pipeline([\n",
    "            ('selector', NumberSelector(key='neg')),\n",
    "            ('standard', MaxAbsScaler())\n",
    "        ])),\n",
    "        ('neu', Pipeline([\n",
    "            ('selector', NumberSelector(key='neu')),\n",
    "            ('standard', MaxAbsScaler())\n",
    "        ])),\n",
    "        ('com', Pipeline([\n",
    "            ('selector', NumberSelector(key='com')),\n",
    "            ('standard', MaxAbsScaler())\n",
    "        ]))\n",
    "    ])),\n",
    "    ('classifier', KNeighborsClassifier(n_neighbors=1, weights='uniform'))\n",
    "])"
   ]
  },
  {
   "cell_type": "code",
   "execution_count": 47,
   "id": "bece30bc",
   "metadata": {},
   "outputs": [
    {
     "name": "stdout",
     "output_type": "stream",
     "text": [
      "F1 score for KNN on experimental dataset:  [28.44984802 38.66377977 47.22510912 55.62962963]\n",
      "Accuracy score for KNN on experimental dataset:  44.62565425168778\n"
     ]
    },
    {
     "data": {
      "image/png": "[encoded data removed]",
      "text/plain": [
       "<Figure size 432x288 with 2 Axes>"
      ]
     },
     "metadata": {
      "needs_background": "light"
     },
     "output_type": "display_data"
    }
   ],
   "source": [
    "x_tr_exp, x_te_exp, y_tr_exp, y_te_exp = train_test_split(\n",
    "    tweets[['message', 'neg', 'neu', 'pos', 'com']], \n",
    "    tweets['sentiment'], test_size=0.3 \n",
    ")\n",
    "\n",
    "knn_exp.fit(x_tr_exp, y_tr_exp)\n",
    "knn_exp_predict = knn_exp.predict(x_te_exp)\n",
    "\n",
    "ConfusionMatrixDisplay.from_predictions(y_te_exp, knn_exp_predict, cmap=plt.cm.cividis)\n",
    "\n",
    "print('F1 score for KNN on experimental dataset: ', f1_score(y_te_exp, knn_exp_predict, average=None) * 100)\n",
    "print('Accuracy score for KNN on experimental dataset: ', accuracy_score(y_te_exp, knn_exp_predict) * 100)"
   ]
  },
  {
   "attachments": {},
   "cell_type": "markdown",
   "id": "8d4667c8",
   "metadata": {},
   "source": [
    "## Splitting Dataset\n",
    "\n",
    "I have splitted the dataset into Training Set (TR), and Test Set (TE). Respectively in 85%, and 15%. <br/>\n",
    "[Later](#comparison-of-classification-algorithms), from the Training Set will be extracted the Validation Set (VA)(15%).  "
   ]
  },
  {
   "cell_type": "code",
   "execution_count": 12,
   "id": "04d8d174",
   "metadata": {},
   "outputs": [
    {
     "name": "stdout",
     "output_type": "stream",
     "text": [
      "Training Set Length: 37351\n",
      "Test Set Length: 6592\n"
     ]
    }
   ],
   "source": [
    "np.random.seed()\n",
    "\n",
    "x_tr, x_te, y_tr, y_te = train_test_split(tweets['message'], tweets['sentiment'], test_size=0.15)\n",
    "\n",
    "print('Training Set Length:', len(x_tr))\n",
    "print('Test Set Length:', len(x_te))"
   ]
  },
  {
   "attachments": {},
   "cell_type": "markdown",
   "id": "6d9dcaf4",
   "metadata": {},
   "source": [
    "## Comparison of Classification Algorithms\n",
    "\n",
    "I have chosen five algorithms: ``K-Nearest Neighbors``, ``Multinomial Naive-Bayes``, ``Logistic Regression``, ``SVM``, and ``SGD-Classifier``. <br/>\n",
    "``K-Nearest Neighbors`` and ``SVM`` are an easy geometric approach and a more complex one to classification. <br/>\n",
    "``Multinomial Naive-Bayes`` and ``Logistic Regression`` are an easy probabilistic approach and a more complex one to classification. <br/>\n",
    "``SGD-Classifier`` implements linear algorithms (both geometric and probabilistic) and optimizes them with SGD (Stochastic Gradient Descent).\n",
    "\n",
    "I have made five different pipelines: one for each algorithm. <br/>\n",
    "In each Pipeline I have set three main steps:\n",
    "- _vect_ &#8594; **CountVectorizer** &#8594; converts a collection of documents (tweets) to a matrix of token counts (Bag-of-Words). It takes this list of parameters:\n",
    "    - *stop_words* &#187; Removes some very common words (based on English vocabulary).\n",
    "    - *strip_accents* &#187; Removes accents and any other not supported characters (for instance, Arabic symbols are not supported in ASCII).\n",
    "    - *lowercase* &#187; Converts all characters to lowercase.\n",
    "    - *max_df* &#187; When building the vocabulary ignores terms that have a document frequency strictly higher than the given threshold.\n",
    "- _tfidf_ &#8594; **TfidfTransformer** &#8594; transforms a count matrix to a normalized tf-idf representation (common term weighting scheme in information retrieval). It takes this list of parameters:\n",
    "    - *use_idf* &#187; Enable inverse-document-frequency reweighting. If False, idf(t) = 1.\n",
    "- _clf_ &#8594; is the algorithm used for classification.\n",
    "\n",
    "For each pipeline, for each step, there are some parameters which have been set thanks to experience with ``GridSearchCV``. <br/>\n",
    "*GridSearchCV* uses **Cross-Validation**. But it has been designed to work on limited dataset (and it is not our case). This just slows us down. <br/>\n",
    "To solve this problem, I have set the parameter *'cv'* using **ShuffleSplit()**, which gets the **Validation Set (15%)** from the TR, and lets the process of Cross-validation repeat just once (instead of 5 times) optimizing the execution time. \n",
    "\n",
    "**N.B.** Before running these codes, I suggest you to set in each _GridSearchCV_ the parameter *n_jobs* with the number of your cores - 2. <br/>\n",
    "**N.B.** Before running these codes, assume that the entire run will last **about 5 hours** instead of **25 hours** (without ShuffleSplit)."
   ]
  },
  {
   "attachments": {},
   "cell_type": "markdown",
   "id": "7884a457",
   "metadata": {},
   "source": [
    "#### **K-Nearest Neighbors Algorithm**\n",
    "\n",
    "In this case, the classifier takes two parameters:\n",
    "- *n_neighbors* &#187; Number of closest examples to consider during classification. It is usually called *K parameter*.\n",
    "- *weights* &#187; Weight function used in prediction.\n",
    "    - *'uniform'* : uniform weights. All points in each neighborhood are weighted equally.\n",
    "    - *'distance'* : weight points by the inverse of their distance. In this case, closer neighbors will have a greater influence than neighbors which are further away. "
   ]
  },
  {
   "cell_type": "code",
   "execution_count": 13,
   "id": "8eba742b",
   "metadata": {},
   "outputs": [
    {
     "name": "stdout",
     "output_type": "stream",
     "text": [
      "Use Stop-Words-Removal:  None\n",
      "Remove Accents:  None\n",
      "Lowercase:  True\n",
      "Max-df:  0.75\n",
      "Use TF-IDF:  False\n",
      "Best K parameter:  1\n",
      "Weight function used in prediction:  uniform\n"
     ]
    }
   ],
   "source": [
    "knn_va_classifier = Pipeline([\n",
    "    ('vect', CountVectorizer(preprocessor=pre_proc)),\n",
    "    ('tfidf', TfidfTransformer()),\n",
    "    ('clf', KNeighborsClassifier())\n",
    "])\n",
    "\n",
    "params = {\n",
    "    'vect__stop_words': (None, 'english'),\n",
    "    'vect__strip_accents': (None, 'unicode'),\n",
    "    'vect__lowercase': [True, False],\n",
    "    'vect__max_df': [0.125, 0.25, 0.375, 0.5, 0.75, 0.875, 1.0],\n",
    "    'tfidf__use_idf': (True, False),\n",
    "    'clf__n_neighbors': np.arange(1, 11),\n",
    "    'clf__weights': ['uniform', 'distance'],\n",
    "}\n",
    "knn_gs = GridSearchCV(knn_va_classifier, params, cv=ShuffleSplit(test_size=0.1765, n_splits=1), n_jobs=4)\n",
    "\n",
    "knn_gs.fit(x_tr, y_tr)\n",
    "\n",
    "print('Use Stop-Words-Removal: ', knn_gs.best_params_['vect__stop_words'])\n",
    "print('Remove Accents: ', knn_gs.best_params_['vect__strip_accents'])\n",
    "print('Lowercase: ', knn_gs.best_params_['vect__lowercase'])\n",
    "print('Max-df: ', knn_gs.best_params_['vect__max_df'])\n",
    "print('Use TF-IDF: ', knn_gs.best_params_['tfidf__use_idf'])\n",
    "print('Best K parameter: ', knn_gs.best_params_['clf__n_neighbors'])\n",
    "print('Weight function used in prediction: ', knn_gs.best_params_['clf__weights'])"
   ]
  },
  {
   "cell_type": "code",
   "execution_count": 34,
   "id": "6800bfe6",
   "metadata": {},
   "outputs": [
    {
     "name": "stdout",
     "output_type": "stream",
     "text": [
      "F1 score for KNN on TE:  [29.58199357 40.60987415 58.41350517 63.90804598]\n",
      "Accuracy score for KNN on TE:  51.88106796116505\n"
     ]
    },
    {
     "data": {
      "image/png": "[encoded data removed]",
      "text/plain": [
       "<Figure size 432x288 with 2 Axes>"
      ]
     },
     "metadata": {
      "needs_background": "light"
     },
     "output_type": "display_data"
    }
   ],
   "source": [
    "knn_classifier = Pipeline([\n",
    "    ('vect', CountVectorizer(\n",
    "        stop_words=knn_gs.best_params_['vect__stop_words'],\n",
    "        strip_accents=knn_gs.best_params_['vect__strip_accents'],\n",
    "        lowercase=knn_gs.best_params_['vect__lowercase'],\n",
    "        max_df=knn_gs.best_params_['vect__max_df'],\n",
    "        preprocessor=pre_proc,\n",
    "    )),\n",
    "    ('tfidf', TfidfTransformer(use_idf=knn_gs.best_params_['tfidf__use_idf'])),\n",
    "    ('clf', KNeighborsClassifier(n_neighbors=knn_gs.best_params_['clf__n_neighbors'], weights=knn_gs.best_params_['clf__weights']))\n",
    "])\n",
    "\n",
    "knn_classifier.fit(x_tr, y_tr)\n",
    "knn_predict = knn_classifier.predict(x_te)\n",
    "\n",
    "ConfusionMatrixDisplay.from_predictions(y_te, knn_predict, cmap=plt.cm.cividis)\n",
    "\n",
    "print('F1 score for KNN on TE: ', f1_score(y_te, knn_predict, average=None) * 100)\n",
    "print('Accuracy score for KNN on TE: ', accuracy_score(y_te, knn_predict) * 100)"
   ]
  },
  {
   "attachments": {},
   "cell_type": "markdown",
   "id": "13057baa",
   "metadata": {},
   "source": [
    "#### **Multinomial Naive-Bayes Algorithm**\n",
    "\n",
    "In this case, the classifier takes zero parameters: &#8709;"
   ]
  },
  {
   "cell_type": "code",
   "execution_count": 35,
   "id": "90da353b",
   "metadata": {},
   "outputs": [
    {
     "name": "stdout",
     "output_type": "stream",
     "text": [
      "Use Stop-Words-Removal:  english\n",
      "Remove Accents:  None\n",
      "Lowercase:  True\n",
      "Max-df:  0.125\n",
      "Use TF-IDF:  True\n"
     ]
    }
   ],
   "source": [
    "nb_va_classifier = Pipeline([\n",
    "    ('vect', CountVectorizer(preprocessor=pre_proc)),\n",
    "    ('tfidf', TfidfTransformer()),\n",
    "    ('clf', MultinomialNB())\n",
    "])\n",
    "\n",
    "params = {\n",
    "    'vect__stop_words': (None, 'english'),\n",
    "    'vect__strip_accents': (None, 'unicode'),\n",
    "    'vect__lowercase': [True, False],\n",
    "    'vect__max_df': [0.125, 0.25, 0.375, 0.5, 0.75, 0.875, 1.0],\n",
    "    'tfidf__use_idf': (True, False)\n",
    "}\n",
    "nb_gs = GridSearchCV(nb_va_classifier, params, cv=ShuffleSplit(test_size=0.1765, n_splits=1), n_jobs=4)\n",
    "\n",
    "nb_gs.fit(x_tr, y_tr)\n",
    "\n",
    "print('Use Stop-Words-Removal: ', nb_gs.best_params_['vect__stop_words'])\n",
    "print('Remove Accents: ', nb_gs.best_params_['vect__strip_accents'])\n",
    "print('Lowercase: ', nb_gs.best_params_['vect__lowercase'])\n",
    "print('Max-df: ', nb_gs.best_params_['vect__max_df'])\n",
    "print('Use TF-IDF: ', nb_gs.best_params_['tfidf__use_idf'])"
   ]
  },
  {
   "cell_type": "code",
   "execution_count": 36,
   "id": "4ebe75dc",
   "metadata": {},
   "outputs": [
    {
     "name": "stdout",
     "output_type": "stream",
     "text": [
      "F1 score for MultinomialNB on TE:  [ 8.97832817 15.27777778 72.72727273 56.5967366 ]\n",
      "Accuracy score for MultinomialNB on TE:  61.33191747572816\n"
     ]
    },
    {
     "data": {
      "image/png": "[encoded data removed]",
      "text/plain": [
       "<Figure size 432x288 with 2 Axes>"
      ]
     },
     "metadata": {
      "needs_background": "light"
     },
     "output_type": "display_data"
    }
   ],
   "source": [
    "nb_classifier = Pipeline([\n",
    "    ('vect', CountVectorizer(\n",
    "        stop_words=nb_gs.best_params_['vect__stop_words'],\n",
    "        strip_accents=nb_gs.best_params_['vect__strip_accents'],\n",
    "        lowercase=nb_gs.best_params_['vect__lowercase'],\n",
    "        max_df=nb_gs.best_params_['vect__max_df'],\n",
    "        preprocessor=pre_proc\n",
    "    )),\n",
    "    ('tfidf', TfidfTransformer(use_idf=nb_gs.best_params_['tfidf__use_idf'])),\n",
    "    ('clf', MultinomialNB())\n",
    "])\n",
    "\n",
    "nb_classifier.fit(x_tr, y_tr)\n",
    "nb_predict = nb_classifier.predict(x_te)\n",
    "\n",
    "ConfusionMatrixDisplay.from_predictions(y_te, nb_predict, cmap=plt.cm.cividis)\n",
    "\n",
    "print('F1 score for MultinomialNB on TE: ', f1_score(y_te, nb_predict, average=None) * 100)\n",
    "print('Accuracy score for MultinomialNB on TE: ', accuracy_score(y_te, nb_predict) * 100)"
   ]
  },
  {
   "attachments": {},
   "cell_type": "markdown",
   "id": "8500feea",
   "metadata": {},
   "source": [
    "#### **Logistic Regression Algorithm**\n",
    "\n",
    "In this case, the classifier takes two parameters:\n",
    "- *max_iter* &#187; Maximum number of iterations taken for the solvers to converge.\n",
    "- *solver* &#187; Algorithm to use in the optimization problem. It depends on dataset size, and on the number of possible output classes."
   ]
  },
  {
   "cell_type": "code",
   "execution_count": 37,
   "id": "d6170add",
   "metadata": {},
   "outputs": [
    {
     "name": "stdout",
     "output_type": "stream",
     "text": [
      "Use Stop-Words-Removal:  None\n",
      "Remove Accents:  None\n",
      "Lowercase:  True\n",
      "Max-df:  0.375\n",
      "Use TF-IDF:  True\n",
      "Maximum number of iterations taken to converge:  600\n",
      "Algorithm to use in the optimization problem:  saga\n"
     ]
    }
   ],
   "source": [
    "lr_va_classifier = Pipeline([\n",
    "    ('vect', CountVectorizer(preprocessor=pre_proc)),\n",
    "    ('tfidf', TfidfTransformer()),\n",
    "    ('clf', LogisticRegression())\n",
    "])\n",
    "\n",
    "params = {\n",
    "    'vect__stop_words': (None, 'english'),\n",
    "    'vect__strip_accents': (None, 'unicode'),\n",
    "    'vect__lowercase': [True, False],\n",
    "    'vect__max_df': [0.125, 0.25, 0.375, 0.5, 0.75, 0.875, 1.0],\n",
    "    'tfidf__use_idf': (True, False),\n",
    "    'clf__max_iter': (600, 700, 800),\n",
    "    'clf__solver': ['liblinear', 'sag', 'saga', 'lbfgs']\n",
    "}\n",
    "lr_gs = GridSearchCV(lr_va_classifier, params, cv=ShuffleSplit(test_size=0.1765, n_splits=1), n_jobs=4)\n",
    "\n",
    "lr_gs.fit(x_tr, y_tr)\n",
    "\n",
    "print('Use Stop-Words-Removal: ', lr_gs.best_params_['vect__stop_words'])\n",
    "print('Remove Accents: ', lr_gs.best_params_['vect__strip_accents'])\n",
    "print('Lowercase: ', lr_gs.best_params_['vect__lowercase'])\n",
    "print('Max-df: ', lr_gs.best_params_['vect__max_df'])\n",
    "print('Use TF-IDF: ', lr_gs.best_params_['tfidf__use_idf'])\n",
    "print('Maximum number of iterations taken to converge: ', lr_gs.best_params_['clf__max_iter'])\n",
    "print('Algorithm to use in the optimization problem: ', lr_gs.best_params_['clf__solver'])"
   ]
  },
  {
   "cell_type": "code",
   "execution_count": 38,
   "id": "19c33fc0",
   "metadata": {},
   "outputs": [
    {
     "name": "stdout",
     "output_type": "stream",
     "text": [
      "F1 score for LogisticRegressor on TE:  [46.799117   48.90473765 79.08574448 73.63437728]\n",
      "Accuracy score for LogisticRegressor on TE:  71.2378640776699\n"
     ]
    },
    {
     "data": {
      "image/png": "[encoded data removed]",
      "text/plain": [
       "<Figure size 432x288 with 2 Axes>"
      ]
     },
     "metadata": {
      "needs_background": "light"
     },
     "output_type": "display_data"
    }
   ],
   "source": [
    "lr_classifier = Pipeline([\n",
    "    ('vect', CountVectorizer(\n",
    "        stop_words=lr_gs.best_params_['vect__stop_words'],\n",
    "        strip_accents=lr_gs.best_params_['vect__strip_accents'],\n",
    "        lowercase=lr_gs.best_params_['vect__lowercase'],\n",
    "        max_df=lr_gs.best_params_['vect__max_df'],\n",
    "        preprocessor=pre_proc\n",
    "    )),\n",
    "    ('tfidf', TfidfTransformer(use_idf=lr_gs.best_params_['tfidf__use_idf'])),\n",
    "    ('clf', LogisticRegression(max_iter=lr_gs.best_params_['clf__max_iter'], solver=lr_gs.best_params_['clf__solver']))\n",
    "])\n",
    "\n",
    "lr_classifier.fit(x_tr, y_tr)\n",
    "lr_predict = lr_classifier.predict(x_te)\n",
    "\n",
    "ConfusionMatrixDisplay.from_predictions(y_te, lr_predict, cmap=plt.cm.cividis)\n",
    "\n",
    "print('F1 score for LogisticRegressor on TE: ', f1_score(y_te, lr_predict, average=None) * 100)\n",
    "print('Accuracy score for LogisticRegressor on TE: ', accuracy_score(y_te, lr_predict) * 100)"
   ]
  },
  {
   "attachments": {},
   "cell_type": "markdown",
   "id": "98a2a6df",
   "metadata": {},
   "source": [
    "#### **Support-Vector-Machine (SVM) Algorithm**\n",
    "\n",
    "In this case, the classifier takes one parameter:\n",
    "- *kernel* &#187; Specifies the kernel type to be used in the algorithm which return a \"best fit\" hyperplane which divides (categorizes) data."
   ]
  },
  {
   "cell_type": "code",
   "execution_count": 40,
   "id": "8db0f211",
   "metadata": {},
   "outputs": [
    {
     "name": "stdout",
     "output_type": "stream",
     "text": [
      "Use Stop-Words-Removal:  None\n",
      "Remove Accents:  None\n",
      "Lowercase:  True\n",
      "Max-df:  0.375\n",
      "Use TF-IDF:  True\n",
      "Kernel type used:  linear\n"
     ]
    }
   ],
   "source": [
    "svm_va_classifier = Pipeline([\n",
    "    ('vect', CountVectorizer(preprocessor=pre_proc)),\n",
    "    ('tfidf', TfidfTransformer()),\n",
    "    ('clf', SVC())\n",
    "])\n",
    "\n",
    "params = {\n",
    "    'vect__stop_words': (None, 'english'),\n",
    "    'vect__strip_accents': (None, 'unicode'),\n",
    "    'vect__lowercase': [True, False],\n",
    "    'vect__max_df': [0.125, 0.25, 0.375, 0.5, 0.75, 0.875, 1.0],\n",
    "    'tfidf__use_idf': (True, False),\n",
    "    'clf__kernel': ('linear', 'rbf')\n",
    "}\n",
    "svm_gs = GridSearchCV(svm_va_classifier, params, cv=ShuffleSplit(test_size=0.1765, n_splits=1), n_jobs=4)\n",
    "\n",
    "svm_gs.fit(x_tr, y_tr)\n",
    "\n",
    "print('Use Stop-Words-Removal: ', svm_gs.best_params_['vect__stop_words'])\n",
    "print('Remove Accents: ', svm_gs.best_params_['vect__strip_accents'])\n",
    "print('Lowercase: ', svm_gs.best_params_['vect__lowercase'])\n",
    "print('Max-df: ', svm_gs.best_params_['vect__max_df'])\n",
    "print('Use TF-IDF: ', svm_gs.best_params_['tfidf__use_idf'])\n",
    "print('Kernel type used: ', svm_gs.best_params_['clf__kernel'])"
   ]
  },
  {
   "cell_type": "code",
   "execution_count": 41,
   "id": "1e00362f",
   "metadata": {},
   "outputs": [
    {
     "name": "stdout",
     "output_type": "stream",
     "text": [
      "F1 score for SVM on TE:  [52.11122554 49.95044599 79.39671425 74.53954496]\n",
      "Accuracy score for SVM on TE:  71.85983009708737\n"
     ]
    },
    {
     "data": {
      "image/png": "[encoded data removed]",
      "text/plain": [
       "<Figure size 432x288 with 2 Axes>"
      ]
     },
     "metadata": {
      "needs_background": "light"
     },
     "output_type": "display_data"
    }
   ],
   "source": [
    "svm_classifier = Pipeline([\n",
    "    ('vect', CountVectorizer(\n",
    "        stop_words=svm_gs.best_params_['vect__stop_words'],\n",
    "        strip_accents=svm_gs.best_params_['vect__strip_accents'],\n",
    "        lowercase=svm_gs.best_params_['vect__lowercase'],\n",
    "        max_df=svm_gs.best_params_['vect__max_df'],\n",
    "        preprocessor=pre_proc\n",
    "    )),\n",
    "    ('tfidf', TfidfTransformer(use_idf=svm_gs.best_params_['tfidf__use_idf'])),\n",
    "    ('clf', SVC(kernel=svm_gs.best_params_['clf__kernel']))\n",
    "])\n",
    "\n",
    "svm_classifier.fit(x_tr, y_tr)\n",
    "svm_predict = svm_classifier.predict(x_te)\n",
    "\n",
    "ConfusionMatrixDisplay.from_predictions(y_te, svm_predict, cmap=plt.cm.cividis)\n",
    "\n",
    "print('F1 score for SVM on TE: ', f1_score(y_te, svm_predict, average=None) * 100)\n",
    "print('Accuracy score for SVM on TE: ', accuracy_score(y_te, svm_predict) * 100)"
   ]
  },
  {
   "attachments": {},
   "cell_type": "markdown",
   "id": "ab74a656",
   "metadata": {},
   "source": [
    "#### **SGD (Stochastic Gradient Descent)**\n",
    "\n",
    "In this case, the classifier takes zero parameters: &#8709;"
   ]
  },
  {
   "cell_type": "code",
   "execution_count": 42,
   "id": "8d117229",
   "metadata": {},
   "outputs": [
    {
     "name": "stdout",
     "output_type": "stream",
     "text": [
      "Use Stop-Words-Removal:  None\n",
      "Remove Accents:  unicode\n",
      "Lowercase:  True\n",
      "Max-df:  0.75\n",
      "Use TF-IDF:  True\n"
     ]
    }
   ],
   "source": [
    "sgd_va_classifier = Pipeline([\n",
    "    ('vect', CountVectorizer(preprocessor=pre_proc)),\n",
    "    ('tfidf', TfidfTransformer()),\n",
    "    ('clf', SGDClassifier())\n",
    "])\n",
    "\n",
    "params = {\n",
    "    'vect__stop_words': (None, 'english'),\n",
    "    'vect__strip_accents': (None, 'unicode'),\n",
    "    'vect__lowercase': [True, False],\n",
    "    'vect__max_df': [0.125, 0.25, 0.375, 0.5, 0.75, 0.875, 1.0],\n",
    "    'tfidf__use_idf': (True, False)\n",
    "}\n",
    "sgd_gs = GridSearchCV(sgd_va_classifier, params, cv=ShuffleSplit(test_size=0.1765, n_splits=1), n_jobs=4)\n",
    "\n",
    "sgd_gs.fit(x_tr, y_tr)\n",
    "\n",
    "print('Use Stop-Words-Removal: ', sgd_gs.best_params_['vect__stop_words'])\n",
    "print('Remove Accents: ', sgd_gs.best_params_['vect__strip_accents'])\n",
    "print('Lowercase: ', sgd_gs.best_params_['vect__lowercase'])\n",
    "print('Max-df: ', sgd_gs.best_params_['vect__max_df'])\n",
    "print('Use TF-IDF: ', sgd_gs.best_params_['tfidf__use_idf'])"
   ]
  },
  {
   "cell_type": "code",
   "execution_count": 43,
   "id": "fd1312f2",
   "metadata": {},
   "outputs": [
    {
     "name": "stdout",
     "output_type": "stream",
     "text": [
      "F1 score for SGD on TE:  [39.90384615 41.14149822 77.80738485 70.77805665]\n",
      "Accuracy score for SGD on TE:  69.25060679611651\n"
     ]
    },
    {
     "data": {
      "image/png": "[encoded data removed]",
      "text/plain": [
       "<Figure size 432x288 with 2 Axes>"
      ]
     },
     "metadata": {
      "needs_background": "light"
     },
     "output_type": "display_data"
    }
   ],
   "source": [
    "sgd_classifier = Pipeline([\n",
    "    ('vect', CountVectorizer(\n",
    "        stop_words=sgd_gs.best_params_['vect__stop_words'],\n",
    "        strip_accents=sgd_gs.best_params_['vect__strip_accents'],\n",
    "        lowercase=sgd_gs.best_params_['vect__lowercase'],\n",
    "        max_df=sgd_gs.best_params_['vect__max_df'],\n",
    "        preprocessor=pre_proc\n",
    "    )),\n",
    "    ('tfidf', TfidfTransformer(use_idf=sgd_gs.best_params_['tfidf__use_idf'])),\n",
    "    ('clf', SGDClassifier())\n",
    "])\n",
    "\n",
    "sgd_classifier.fit(x_tr, y_tr)\n",
    "sgd_predict = sgd_classifier.predict(x_te)\n",
    "\n",
    "ConfusionMatrixDisplay.from_predictions(y_te, sgd_predict, cmap=plt.cm.cividis)\n",
    "\n",
    "print('F1 score for SGD on TE: ', f1_score(y_te, sgd_predict, average=None) * 100)\n",
    "print('Accuracy score for SGD on TE: ', accuracy_score(y_te, sgd_predict) * 100)"
   ]
  },
  {
   "attachments": {},
   "cell_type": "markdown",
   "id": "d20ff22f",
   "metadata": {},
   "source": [
    "## Conclusions\n",
    "\n",
    "I have tested and compared five basic classification algorithms.<br/>\n",
    "The best is SVM (**accuracy = 71.8%**), followed in order by Logistic Regression, SGD, K-Nearest Neighbors, and Multinomial Naive-Bayes. <br/>\n",
    "\n",
    "* The model works well just with tweets which are really about climate change. If they contain humorism, the model doesn't work well.\n",
    "* It is \"quick\" and was useful for introduce me into Machine Learning world."
   ]
  },
  {
   "attachments": {},
   "cell_type": "markdown",
   "id": "83107d43",
   "metadata": {},
   "source": [
    "## Bibliography\n",
    "\n",
    "All info about sklearn classes and functions have been taken from: [scikit-learn.org](https://scikit-learn.org/stable/index.html). <br/>\n",
    "Dataset and idea have been taken from: [kaggle.com/edqian/twitter-climate-change-sentiment-dataset](https://www.kaggle.com/datasets/edqian/twitter-climate-change-sentiment-dataset)."
   ]
  }
 ],
 "metadata": {
  "interpreter": {
   "hash": "b7dac55ea79ff990472b3fd73a3a4712c78dbca80cb44a0afa7f2ba3801ae5a9"
  },
  "kernelspec": {
   "display_name": "Python 3 (ipykernel)",
   "language": "python",
   "name": "python3"
  },
  "language_info": {
   "codemirror_mode": {
    "name": "ipython",
    "version": 3
   },
   "file_extension": ".py",
   "mimetype": "text/x-python",
   "name": "python",
   "nbconvert_exporter": "python",
   "pygments_lexer": "ipython3",
   "version": "3.10.9"
  }
 },
 "nbformat": 4,
 "nbformat_minor": 5
}
